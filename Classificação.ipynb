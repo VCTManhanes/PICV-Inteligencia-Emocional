{
  "nbformat": 4,
  "nbformat_minor": 0,
  "metadata": {
    "colab": {
      "name": "Classificação 0-5",
      "provenance": [],
      "collapsed_sections": [],
      "authorship_tag": "ABX9TyNjkVrYO/ZSDlUTxj15fxZ2",
      "include_colab_link": true
    },
    "kernelspec": {
      "display_name": "Python 3",
      "name": "python3"
    }
  },
  "cells": [
    {
      "cell_type": "markdown",
      "metadata": {
        "id": "view-in-github",
        "colab_type": "text"
      },
      "source": [
        "<a href=\"https://colab.research.google.com/github/VCTManhanes/PICV-Inteligencia-Emocional/blob/main/Classifica%C3%A7%C3%A3o.ipynb\" target=\"_parent\"><img src=\"https://colab.research.google.com/assets/colab-badge.svg\" alt=\"Open In Colab\"/></a>"
      ]
    },
    {
      "cell_type": "code",
      "metadata": {
        "id": "G-xieeGS9Sfw"
      },
      "source": [
        "%tensorflow_version 2.x\n",
        "import tensorflow as tf\n",
        "import pandas.util.testing as tm\n",
        "import pandas as pd\n",
        "import numpy as np\n",
        "import seaborn as sns\n",
        "import matplotlib.pyplot as plt\n",
        "tf.__version__"
      ],
      "execution_count": null,
      "outputs": []
    },
    {
      "cell_type": "code",
      "metadata": {
        "id": "zpNspDp22Vw9"
      },
      "source": [
        "questionario= pd.read_csv('/content/Base de dados - treinamento classificacao - Página1.csv')\n",
        "questionario"
      ],
      "execution_count": null,
      "outputs": []
    },
    {
      "cell_type": "code",
      "metadata": {
        "id": "0pXIMEdINQju"
      },
      "source": [
        "PA=questionario[['Pergunta A']]\n",
        "PB=questionario[['Pergunta B']]\n",
        "PC=questionario[['Pergunta C']]\n",
        "Perguntas=questionario[['Pergunta 1'\t,'Pergunta 11'\t,'Pergunta 21'\t,'Pergunta 31'\t,'Pergunta 41'\t,'Pergunta 51'\t,'Pergunta 61'\t,'Pergunta 71'\t,'Pergunta 81'\t,'Pergunta 91','Pergunta 4 '\t,'Pergunta 14'\t,'Pergunta 24'\t,'Pergunta 34'\t,'Pergunta 44'\t,'Pergunta 54'\t,'Pergunta 64'\t,'Pergunta 74'\t,'Pergunta 84'\t,'Pergunta 94','Pergunta 7'\t,'Pergunta 17'\t,'Pergunta 27'\t,'Pergunta 37'\t,'Pergunta 47'\t,'Pergunta 57'\t,'Pergunta 67'\t,'Pergunta 77'\t,'Pergunta 87'\t,'Pergunta 97','Pergunta 10'\t,'Pergunta 20'\t,'Pergunta 30'\t,'Pergunta 40'\t,'Pergunta 50'\t,'Pergunta 60'\t,'Pergunta 70'\t,'Pergunta 80'\t,'Pergunta 90'\t,'Pergunta 100','Pergunta 3'\t,'Pergunta 13'\t,'Pergunta 23'\t,'Pergunta 33'\t,'Pergunta 43'\t,'Pergunta 53'\t,'Pergunta 63'\t,'Pergunta 73'\t,'Pergunta 83'\t,'Pergunta 93','Pergunta 2'\t,'Pergunta 12'\t,'Pergunta 22'\t,'Pergunta 32'\t,'Pergunta 42'\t,'Pergunta 52'\t,'Pergunta 62'\t,'Pergunta 72'\t,'Pergunta 82'\t,'Pergunta 92','Pergunta 5'\t,'Pergunta 15'\t,'Pergunta 25'\t,'Pergunta 35'\t,'Pergunta 45'\t,'Pergunta 55'\t,'Pergunta 65'\t,'Pergunta 75'\t,'Pergunta 85'\t,'Pergunta 95','Pergunta 8'\t,'Pergunta 18'\t,'Pergunta 28'\t,'Pergunta 38'\t,'Pergunta 48'\t,'Pergunta 58'\t,'Pergunta 68'\t,'Pergunta 78'\t,'Pergunta 88'\t,'Pergunta 98','Pergunta 9'\t,'Pergunta 19'\t,'Pergunta 29'\t,'Pergunta 39'\t,'Pergunta 49'\t,'Pergunta 59'\t,'Pergunta 69'\t,'Pergunta 79'\t,'Pergunta 89'\t,'Pergunta 99','Pergunta 6'\t,'Pergunta 16'\t,'Pergunta 26'\t,'Pergunta 36'\t,'Pergunta 46'\t,'Pergunta 56'\t,'Pergunta 66'\t,'Pergunta 76'\t,'Pergunta 86'\t,'Pergunta 96']]"
      ],
      "execution_count": null,
      "outputs": []
    },
    {
      "cell_type": "code",
      "metadata": {
        "id": "jkmnLpNxxXQg"
      },
      "source": [
        "plt.figure(figsize = (8,8))\n",
        "Caracteristicas=questionario[['Pergunta A','Pergunta B','Pergunta C','INSEGURANÇA'\t,'DESEQUILÍBRIO EMOCIONAL'\t,'ANSIEDADE'\t,'ESTRESSE'\t,'DIFICULDADE DE DEMONSTRAR OU RECEBER AFETO'\t,'INFLEXIBILIDADE'\t,'RELACIONAMENTO INTERPESSOAL NEGATIVO'\t,'FALTA DE RESILIÊNCIA'\t,'DESMOTIVAÇÃO' ,'FRACA LIDERANÇA']]\n",
        "CaracteristicasTreino=questionario[['INSEGURANÇA'\t,'DESEQUILÍBRIO EMOCIONAL'\t,'ANSIEDADE'\t,'ESTRESSE'\t,'DIFICULDADE DE DEMONSTRAR OU RECEBER AFETO'\t,'INFLEXIBILIDADE'\t,'RELACIONAMENTO INTERPESSOAL NEGATIVO'\t,'FALTA DE RESILIÊNCIA'\t,'DESMOTIVAÇÃO' ,'FRACA LIDERANÇA']]\n",
        "sns.heatmap(Caracteristicas.corr(),annot=True, fmt=\".2f\",cmap=\"PiYG\");"
      ],
      "execution_count": null,
      "outputs": []
    },
    {
      "cell_type": "code",
      "metadata": {
        "id": "UNn_ovH8PVe6"
      },
      "source": [
        "plt.figure(figsize = (8,8))\n",
        "Inseg=questionario[['Pergunta A','Pergunta B','Pergunta C','Pergunta 1'\t,'Pergunta 11'\t,'Pergunta 21'\t,'Pergunta 31'\t,'Pergunta 41'\t,'Pergunta 51'\t,'Pergunta 61'\t,'Pergunta 71'\t,'Pergunta 81'\t,'Pergunta 91']]\n",
        "sns.heatmap(Inseg.corr(),annot=True, fmt=\".2f\",cmap=\"PiYG\");"
      ],
      "execution_count": null,
      "outputs": []
    },
    {
      "cell_type": "code",
      "metadata": {
        "id": "NRVIWSEwTlty"
      },
      "source": [
        "plt.figure(figsize = (8,8))\n",
        "Desq=questionario[['Pergunta A','Pergunta B','Pergunta C','Pergunta 4 '\t,'Pergunta 14'\t,'Pergunta 24'\t,'Pergunta 34'\t,'Pergunta 44'\t,'Pergunta 54'\t,'Pergunta 64'\t,'Pergunta 74'\t,'Pergunta 84'\t,'Pergunta 94']]\n",
        "sns.heatmap(Desq.corr(), annot=True, fmt=\".2f\",cmap=\"PiYG\");"
      ],
      "execution_count": null,
      "outputs": []
    },
    {
      "cell_type": "code",
      "metadata": {
        "id": "XlcygSPkUuGF"
      },
      "source": [
        "plt.figure(figsize = (8,8))\n",
        "Ansi=questionario[['Pergunta A','Pergunta B','Pergunta C','Pergunta 7'\t,'Pergunta 17'\t,'Pergunta 27'\t,'Pergunta 37'\t,'Pergunta 47'\t,'Pergunta 57'\t,'Pergunta 67'\t,'Pergunta 77'\t,'Pergunta 87'\t,'Pergunta 97']]\n",
        "sns.heatmap(Ansi.corr(),annot=True, fmt=\".2f\",cmap=\"PiYG\");"
      ],
      "execution_count": null,
      "outputs": []
    },
    {
      "cell_type": "code",
      "metadata": {
        "id": "aFdTKHDQVuD5"
      },
      "source": [
        "plt.figure(figsize = (8,8))\n",
        "Estr=questionario[['Pergunta A','Pergunta B','Pergunta C','Pergunta 10'\t,'Pergunta 20'\t,'Pergunta 30'\t,'Pergunta 40'\t,'Pergunta 50'\t,'Pergunta 60'\t,'Pergunta 70'\t,'Pergunta 80'\t,'Pergunta 90'\t,'Pergunta 100']]\n",
        "sns.heatmap(Estr.corr(),annot=True, fmt=\".2f\",cmap=\"PiYG\");"
      ],
      "execution_count": null,
      "outputs": []
    },
    {
      "cell_type": "code",
      "metadata": {
        "id": "dEz9E2fWii8i"
      },
      "source": [
        "plt.figure(figsize = (8,8))\n",
        "Infle=questionario[['Pergunta A','Pergunta B','Pergunta C','Pergunta 2'\t,'Pergunta 12'\t,'Pergunta 22'\t,'Pergunta 32'\t,'Pergunta 42'\t,'Pergunta 52'\t,'Pergunta 62'\t,'Pergunta 72'\t,'Pergunta 82'\t,'Pergunta 92']]\n",
        "sns.heatmap(Infle.corr(),annot=True, fmt=\".2f\",cmap=\"PiYG\");"
      ],
      "execution_count": null,
      "outputs": []
    },
    {
      "cell_type": "code",
      "metadata": {
        "id": "H23RwgQtikD5"
      },
      "source": [
        "plt.figure(figsize = (8,8))\n",
        "Rela=questionario[['Pergunta A','Pergunta B','Pergunta C','Pergunta 5'\t,'Pergunta 15'\t,'Pergunta 25'\t,'Pergunta 35'\t,'Pergunta 45'\t,'Pergunta 55'\t,'Pergunta 65'\t,'Pergunta 75'\t,'Pergunta 85'\t,'Pergunta 95']]\n",
        "sns.heatmap(Rela.corr(),annot=True, fmt=\".2f\",cmap=\"PiYG\");"
      ],
      "execution_count": null,
      "outputs": []
    },
    {
      "cell_type": "code",
      "metadata": {
        "id": "40v7kUaEikuI"
      },
      "source": [
        "plt.figure(figsize = (8,8))\n",
        "Falt=questionario[['Pergunta A','Pergunta B','Pergunta C','Pergunta 8'\t,'Pergunta 18'\t,'Pergunta 28'\t,'Pergunta 38'\t,'Pergunta 48'\t,'Pergunta 58'\t,'Pergunta 68'\t,'Pergunta 78'\t,'Pergunta 88'\t,'Pergunta 98']]\n",
        "sns.heatmap(Falt.corr(),annot=True, fmt=\".2f\",cmap=\"PiYG\");"
      ],
      "execution_count": null,
      "outputs": []
    },
    {
      "cell_type": "code",
      "metadata": {
        "id": "zPYxw0pVioa5"
      },
      "source": [
        "plt.figure(figsize = (8,8))\n",
        "Desm=questionario[['Pergunta A','Pergunta B','Pergunta C','Pergunta 9'\t,'Pergunta 19'\t,'Pergunta 29'\t,'Pergunta 39'\t,'Pergunta 49'\t,'Pergunta 59'\t,'Pergunta 69'\t,'Pergunta 79'\t,'Pergunta 89'\t,'Pergunta 99']]\n",
        "sns.heatmap(Desm.corr(),annot=True, fmt=\".2f\",cmap=\"PiYG\");"
      ],
      "execution_count": null,
      "outputs": []
    },
    {
      "cell_type": "code",
      "metadata": {
        "id": "DPljnZ0mipAY"
      },
      "source": [
        "plt.figure(figsize = (8,8))\n",
        "Fraca=questionario[['Pergunta A','Pergunta B','Pergunta C','Pergunta 6'\t,'Pergunta 16'\t,'Pergunta 26'\t,'Pergunta 36'\t,'Pergunta 46'\t,'Pergunta 56'\t,'Pergunta 66'\t,'Pergunta 76'\t,'Pergunta 86'\t,'Pergunta 96']]\n",
        "sns.heatmap(Fraca.corr(),annot=True, fmt=\".2f\",cmap=\"PiYG\");"
      ],
      "execution_count": null,
      "outputs": []
    },
    {
      "cell_type": "code",
      "metadata": {
        "id": "9dIEt5pno_IC"
      },
      "source": [
        "plt.figure(figsize = (8,8))\n",
        "Dific=questionario[['Pergunta A','Pergunta B','Pergunta C','Pergunta 3'\t,'Pergunta 13'\t,'Pergunta 23'\t,'Pergunta 33'\t,'Pergunta 43'\t,'Pergunta 53'\t,'Pergunta 63'\t,'Pergunta 73'\t,'Pergunta 83'\t,'Pergunta 93']]\n",
        "sns.heatmap(Dific.corr(),annot=True, fmt=\".2f\",cmap=\"PiYG\");"
      ],
      "execution_count": null,
      "outputs": []
    },
    {
      "cell_type": "code",
      "metadata": {
        "id": "ELFNCa4xA2zI"
      },
      "source": [
        "from sklearn.model_selection import train_test_split\n",
        "PerguntasTreinoA, PerguntasTesteA, PATreino, PATeste = train_test_split(Perguntas, PA, test_size = 0.20)\n",
        "PerguntasTreinoB, PerguntasTesteB, PBTreino, PBTeste = train_test_split(Perguntas, PB, test_size = 0.20)\n",
        "PerguntasTreinoC, PerguntasTesteC, PCTreino, PCTeste = train_test_split(Perguntas, PC, test_size = 0.20)\n",
        "PerguntasTreinoA2, PerguntasTesteA2, PATreino2, PATeste2 = train_test_split(CaracteristicasTreino, PA, test_size = 0.20)\n",
        "PerguntasTreinoB2, PerguntasTesteB2, PBTreino2, PBTeste2 = train_test_split(CaracteristicasTreino, PB, test_size = 0.20)\n",
        "PerguntasTreinoC2, PerguntasTesteC2, PCTreino2, PCTeste2 = train_test_split(CaracteristicasTreino, PC, test_size = 0.20)"
      ],
      "execution_count": null,
      "outputs": []
    },
    {
      "cell_type": "code",
      "metadata": {
        "id": "pdUeapHZBLBH"
      },
      "source": [
        "modelA = tf.keras.models.Sequential()\n",
        "modelA.add(tf.keras.layers.Dense(units=1000, activation='relu', input_shape=(100, )))\n",
        "modelA.add(tf.keras.layers.Dense(units=1000, activation='relu'))\n",
        "modelA.add(tf.keras.layers.Dense(units=1000, activation='relu'))\n",
        "modelA.add(tf.keras.layers.Dense(units=4, activation='softmax'))"
      ],
      "execution_count": null,
      "outputs": []
    },
    {
      "cell_type": "code",
      "metadata": {
        "id": "AiOHlq24BX63"
      },
      "source": [
        "modelA.compile(optimizer='adam',\n",
        "              loss='sparse_categorical_crossentropy',\n",
        "              metrics=['accuracy'])"
      ],
      "execution_count": null,
      "outputs": []
    },
    {
      "cell_type": "code",
      "metadata": {
        "id": "M4qq_bZiBar3"
      },
      "source": [
        "TreinoA = modelA.fit(PerguntasTreinoA, PATreino, epochs = 12)"
      ],
      "execution_count": null,
      "outputs": []
    },
    {
      "cell_type": "code",
      "metadata": {
        "id": "ey5faVRIKS5m"
      },
      "source": [
        "TreinoA.history.keys()"
      ],
      "execution_count": null,
      "outputs": []
    },
    {
      "cell_type": "code",
      "metadata": {
        "id": "vNmrbSAxKdU-"
      },
      "source": [
        "plt.plot(TreinoA.history['loss'])\n",
        "plt.title('Model Loss Progress During Training')\n",
        "plt.xlabel('Epoch')\n",
        "plt.ylabel('Training Loss')\n",
        "plt.legend(['Training Loss']);"
      ],
      "execution_count": null,
      "outputs": []
    },
    {
      "cell_type": "code",
      "metadata": {
        "id": "NKdkrQZGX8U_"
      },
      "source": [
        "PrevisaoA=modelA.predict_classes(PerguntasTesteA);"
      ],
      "execution_count": null,
      "outputs": []
    },
    {
      "cell_type": "code",
      "metadata": {
        "id": "xPvvT_hneVyH"
      },
      "source": [
        "from sklearn.metrics import confusion_matrix\n",
        "cm=confusion_matrix(PATeste,PrevisaoA)\n",
        "sns.heatmap(cm,annot=True);"
      ],
      "execution_count": null,
      "outputs": []
    },
    {
      "cell_type": "code",
      "metadata": {
        "id": "H36lEcFUdo3A"
      },
      "source": [
        "modelA2 = tf.keras.models.Sequential()\n",
        "modelA2.add(tf.keras.layers.Dense(units=1000, activation='relu', input_shape=(10, )))\n",
        "modelA2.add(tf.keras.layers.Dense(units=1000, activation='relu'))\n",
        "modelA2.add(tf.keras.layers.Dense(units=1000, activation='relu'))\n",
        "modelA2.add(tf.keras.layers.Dense(units=4, activation='softmax'))"
      ],
      "execution_count": null,
      "outputs": []
    },
    {
      "cell_type": "code",
      "metadata": {
        "id": "LNeEJn-Gd8KB"
      },
      "source": [
        "modelA2.compile(optimizer='adam',\n",
        "              loss='sparse_categorical_crossentropy',\n",
        "              metrics=['accuracy'])"
      ],
      "execution_count": null,
      "outputs": []
    },
    {
      "cell_type": "code",
      "metadata": {
        "colab": {
          "background_save": true
        },
        "id": "WCxmVus2d8-o"
      },
      "source": [
        "TreinoA2 = modelA2.fit(PerguntasTreinoA2, PATreino2, epochs = 50)"
      ],
      "execution_count": null,
      "outputs": []
    },
    {
      "cell_type": "code",
      "metadata": {
        "colab": {
          "background_save": true
        },
        "id": "OhOUJLk4emtV"
      },
      "source": [
        "TreinoA2.history.keys()"
      ],
      "execution_count": null,
      "outputs": []
    },
    {
      "cell_type": "code",
      "metadata": {
        "colab": {
          "background_save": true
        },
        "id": "_pBNwFhUen8F"
      },
      "source": [
        "plt.plot(TreinoA2.history['loss'])\n",
        "plt.title('Model Loss Progress During Training')\n",
        "plt.xlabel('Epoch')\n",
        "plt.ylabel('Training Loss')\n",
        "plt.legend(['Training Loss']);"
      ],
      "execution_count": null,
      "outputs": []
    },
    {
      "cell_type": "code",
      "metadata": {
        "colab": {
          "background_save": true
        },
        "id": "vnWUnG9Reo75"
      },
      "source": [
        "PrevisaoA2 = modelA2.predict_classes(PerguntasTesteA2);"
      ],
      "execution_count": null,
      "outputs": []
    },
    {
      "cell_type": "code",
      "metadata": {
        "colab": {
          "background_save": true
        },
        "id": "D84DpyecbPxX"
      },
      "source": [
        "cm=confusion_matrix(PATeste2,PrevisaoA2)\n",
        "sns.heatmap(cm,annot=True);"
      ],
      "execution_count": null,
      "outputs": []
    },
    {
      "cell_type": "code",
      "metadata": {
        "colab": {
          "background_save": true
        },
        "id": "VAb6ObhXndg1"
      },
      "source": [
        "modelB = tf.keras.models.Sequential()\n",
        "modelB.add(tf.keras.layers.Dense(units=1000, activation='relu', input_shape=(100, )))\n",
        "modelB.add(tf.keras.layers.Dense(units=1000, activation='relu'))\n",
        "modelB.add(tf.keras.layers.Dense(units=1000, activation='relu'))\n",
        "modelB.add(tf.keras.layers.Dense(units=4, activation='softmax'))"
      ],
      "execution_count": null,
      "outputs": []
    },
    {
      "cell_type": "code",
      "metadata": {
        "colab": {
          "background_save": true
        },
        "id": "QvruFbcan7qU"
      },
      "source": [
        "modelB.compile(optimizer='adam',\n",
        "              loss='sparse_categorical_crossentropy',\n",
        "              metrics=['accuracy'])"
      ],
      "execution_count": null,
      "outputs": []
    },
    {
      "cell_type": "code",
      "metadata": {
        "colab": {
          "background_save": true
        },
        "id": "Y7c0jqBznH4i"
      },
      "source": [
        "TreinoB = modelB.fit(PerguntasTreinoB, PBTreino, epochs = 12)"
      ],
      "execution_count": null,
      "outputs": []
    },
    {
      "cell_type": "code",
      "metadata": {
        "colab": {
          "background_save": true
        },
        "id": "cjqiC_gBoVSD"
      },
      "source": [
        "TreinoB.history.keys()"
      ],
      "execution_count": null,
      "outputs": []
    },
    {
      "cell_type": "code",
      "metadata": {
        "colab": {
          "background_save": true
        },
        "id": "K_Ch_QO3oYm3"
      },
      "source": [
        "plt.plot(TreinoB.history['loss'])\n",
        "plt.title('Model Loss Progress During Training')\n",
        "plt.xlabel('Epoch')\n",
        "plt.ylabel('Training Loss')\n",
        "plt.legend(['Training Loss']);"
      ],
      "execution_count": null,
      "outputs": []
    },
    {
      "cell_type": "code",
      "metadata": {
        "colab": {
          "background_save": true
        },
        "id": "e_QhfjGPsiUm"
      },
      "source": [
        "PrevisaoB = modelB.predict_classes(PerguntasTesteB);"
      ],
      "execution_count": null,
      "outputs": []
    },
    {
      "cell_type": "code",
      "metadata": {
        "colab": {
          "background_save": true
        },
        "id": "jV30E55bb7aW"
      },
      "source": [
        "cm=confusion_matrix(PBTeste,PrevisaoB)\n",
        "sns.heatmap(cm,annot=True);"
      ],
      "execution_count": null,
      "outputs": []
    },
    {
      "cell_type": "code",
      "metadata": {
        "colab": {
          "background_save": true
        },
        "id": "ZGnUsAKIeE7L"
      },
      "source": [
        "modelB2 = tf.keras.models.Sequential()\n",
        "modelB2.add(tf.keras.layers.Dense(units=1000, activation='relu', input_shape=(10, )))\n",
        "modelB2.add(tf.keras.layers.Dense(units=1000, activation='relu'))\n",
        "modelB2.add(tf.keras.layers.Dense(units=1000, activation='relu'))\n",
        "modelB2.add(tf.keras.layers.Dense(units=4, activation='softmax'))"
      ],
      "execution_count": null,
      "outputs": []
    },
    {
      "cell_type": "code",
      "metadata": {
        "colab": {
          "background_save": true
        },
        "id": "IWkAlUmjeHKs"
      },
      "source": [
        "modelB2.compile(optimizer='adam',\n",
        "              loss='sparse_categorical_crossentropy',\n",
        "              metrics=['accuracy'])"
      ],
      "execution_count": null,
      "outputs": []
    },
    {
      "cell_type": "code",
      "metadata": {
        "id": "Iz5RRqDxeIhE"
      },
      "source": [
        "TreinoB2 = modelB2.fit(PerguntasTreinoB2, PBTreino2, epochs = 50)"
      ],
      "execution_count": null,
      "outputs": []
    },
    {
      "cell_type": "code",
      "metadata": {
        "id": "5olHaEAve7f5"
      },
      "source": [
        "TreinoB2.history.keys()"
      ],
      "execution_count": null,
      "outputs": []
    },
    {
      "cell_type": "code",
      "metadata": {
        "id": "tl-DqHkEe8U4"
      },
      "source": [
        "plt.plot(TreinoB2.history['loss'])\n",
        "plt.title('Model Loss Progress During Training')\n",
        "plt.xlabel('Epoch')\n",
        "plt.ylabel('Training Loss')\n",
        "plt.legend(['Training Loss']);"
      ],
      "execution_count": null,
      "outputs": []
    },
    {
      "cell_type": "code",
      "metadata": {
        "id": "2YWLnpFoe9TZ"
      },
      "source": [
        "PrevisaoB2 = modelB2.predict_classes(PerguntasTesteB2);"
      ],
      "execution_count": null,
      "outputs": []
    },
    {
      "cell_type": "code",
      "metadata": {
        "id": "vyFG8IQFcSgO"
      },
      "source": [
        "cm=confusion_matrix(PBTeste2,PrevisaoB2)\n",
        "sns.heatmap(cm,annot=True);"
      ],
      "execution_count": null,
      "outputs": []
    },
    {
      "cell_type": "code",
      "metadata": {
        "id": "QSinqW9JoGMO"
      },
      "source": [
        "modelC = tf.keras.models.Sequential()\n",
        "modelC.add(tf.keras.layers.Dense(units=1000, activation='relu', input_shape=(100, )))\n",
        "modelC.add(tf.keras.layers.Dense(units=1000, activation='relu'))\n",
        "modelC.add(tf.keras.layers.Dense(units=1000, activation='relu'))\n",
        "modelC.add(tf.keras.layers.Dense(units=4, activation='softmax'))"
      ],
      "execution_count": null,
      "outputs": []
    },
    {
      "cell_type": "code",
      "metadata": {
        "id": "yQF-YzP1oKEy"
      },
      "source": [
        "modelC.compile(optimizer='adam',\n",
        "              loss='sparse_categorical_crossentropy',\n",
        "              metrics=['accuracy'])"
      ],
      "execution_count": null,
      "outputs": []
    },
    {
      "cell_type": "code",
      "metadata": {
        "id": "1sziiGCaoMet"
      },
      "source": [
        "TreinoC = modelC.fit(PerguntasTreinoC, PCTreino, epochs = 12)"
      ],
      "execution_count": null,
      "outputs": []
    },
    {
      "cell_type": "code",
      "metadata": {
        "id": "IJ0mAUufoXxp"
      },
      "source": [
        "TreinoC.history.keys()"
      ],
      "execution_count": null,
      "outputs": []
    },
    {
      "cell_type": "code",
      "metadata": {
        "id": "eTByK612oawL"
      },
      "source": [
        "plt.plot(TreinoC.history['loss'])\n",
        "plt.title('Model Loss Progress During Training')\n",
        "plt.xlabel('Epoch')\n",
        "plt.ylabel('Training Loss')\n",
        "plt.legend(['Training Loss']);"
      ],
      "execution_count": null,
      "outputs": []
    },
    {
      "cell_type": "code",
      "metadata": {
        "id": "QEGZoTiKskg3"
      },
      "source": [
        "PrevisaoC = modelC.predict_classes(PerguntasTesteC);"
      ],
      "execution_count": null,
      "outputs": []
    },
    {
      "cell_type": "code",
      "metadata": {
        "id": "DBWkmniYccfP"
      },
      "source": [
        "cm=confusion_matrix(PCTeste,PrevisaoC)\n",
        "sns.heatmap(cm,annot=True);"
      ],
      "execution_count": null,
      "outputs": []
    },
    {
      "cell_type": "code",
      "metadata": {
        "id": "4y_lQTnfeJhN"
      },
      "source": [
        "modelC2 = tf.keras.models.Sequential()\n",
        "modelC2.add(tf.keras.layers.Dense(units=1000, activation='relu', input_shape=(10, )))\n",
        "modelC2.add(tf.keras.layers.Dense(units=1000, activation='relu'))\n",
        "modelC2.add(tf.keras.layers.Dense(units=1000, activation='relu'))\n",
        "modelC2.add(tf.keras.layers.Dense(units=4, activation='softmax'))"
      ],
      "execution_count": null,
      "outputs": []
    },
    {
      "cell_type": "code",
      "metadata": {
        "id": "bPpdi46PeKke"
      },
      "source": [
        "modelC2.compile(optimizer='Adam', loss='mean_squared_error')"
      ],
      "execution_count": null,
      "outputs": []
    },
    {
      "cell_type": "code",
      "metadata": {
        "id": "SCa5QLCdeLn_"
      },
      "source": [
        "TreinoC2 = modelC2.fit(PerguntasTreinoC2, PCTreino2, epochs = 50)"
      ],
      "execution_count": null,
      "outputs": []
    },
    {
      "cell_type": "code",
      "metadata": {
        "colab": {
          "background_save": true
        },
        "id": "5lFrMKy3e-jZ",
        "outputId": "4b5811b6-2bdd-4103-9e2f-5ab7bdec495e"
      },
      "source": [
        "TreinoC2.history.keys()"
      ],
      "execution_count": null,
      "outputs": [
        {
          "output_type": "execute_result",
          "data": {
            "text/plain": [
              "dict_keys(['loss'])"
            ]
          },
          "metadata": {
            "tags": []
          },
          "execution_count": 0
        }
      ]
    },
    {
      "cell_type": "code",
      "metadata": {
        "colab": {
          "background_save": true
        },
        "id": "_QFUrGl0e_-q",
        "outputId": "a8fafcf0-2cbf-420f-9de9-83928d28b5fe"
      },
      "source": [
        "plt.plot(TreinoC2.history['loss'])\n",
        "plt.title('Model Loss Progress During Training')\n",
        "plt.xlabel('Epoch')\n",
        "plt.ylabel('Training Loss')\n",
        "plt.legend(['Training Loss']);"
      ],
      "execution_count": null,
      "outputs": [
        {
          "output_type": "display_data",
          "data": {
            "image/png": "[encoded data removed]",
            "text/plain": [
              "<Figure size 432x288 with 1 Axes>"
            ]
          },
          "metadata": {
            "tags": []
          }
        }
      ]
    },
    {
      "cell_type": "code",
      "metadata": {
        "id": "HXArWDm4fBeL"
      },
      "source": [
        "PrevisaoC2 = modelC2.predict_classes(PerguntasTesteC2);"
      ],
      "execution_count": null,
      "outputs": []
    },
    {
      "cell_type": "code",
      "metadata": {
        "id": "oSJdZAnvcviK"
      },
      "source": [
        "cm=confusion_matrix(PCTeste2,PrevisaoC2)\n",
        "sns.heatmap(cm,annot=True);"
      ],
      "execution_count": null,
      "outputs": []
    }
  ]
}